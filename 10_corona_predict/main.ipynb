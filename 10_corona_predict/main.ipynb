{
 "cells": [
  {
   "cell_type": "code",
   "execution_count": 2,
   "metadata": {
    "collapsed": true,
    "ExecuteTime": {
     "end_time": "2024-01-11T07:53:20.449599400Z",
     "start_time": "2024-01-11T07:53:15.696224700Z"
    }
   },
   "outputs": [],
   "source": [
    "from keras.models import Sequential\n",
    "from keras.layers import SimpleRNN, Dense\n",
    "\n",
    "from sklearn.preprocessing import MinMaxScaler\n",
    "from sklearn.metrics import mean_squared_error\n",
    "from sklearn.model_selection import train_test_split\n",
    "\n",
    "import math\n",
    "import numpy as np\n",
    "import matplotlib.pyplot as plt\n",
    "from pandas import read_csv"
   ]
  },
  {
   "cell_type": "code",
   "execution_count": 3,
   "outputs": [
    {
     "name": "stdout",
     "output_type": "stream",
     "text": [
      "<class 'pandas.core.frame.DataFrame'>\n",
      "RangeIndex: 112 entries, 0 to 111\n",
      "Data columns (total 1 columns):\n",
      " #   Column     Non-Null Count  Dtype\n",
      "---  ------     --------------  -----\n",
      " 0   Confirmed  112 non-null    int64\n",
      "dtypes: int64(1)\n",
      "memory usage: 1.0 KB\n"
     ]
    }
   ],
   "source": [
    "df = read_csv('corona_daily.csv', usecols=[3], engine='python', skipfooter=3)\n",
    "df.info()"
   ],
   "metadata": {
    "collapsed": false,
    "ExecuteTime": {
     "end_time": "2024-01-11T07:53:20.464045700Z",
     "start_time": "2024-01-11T07:53:20.451105500Z"
    }
   }
  },
  {
   "cell_type": "code",
   "execution_count": 4,
   "outputs": [
    {
     "data": {
      "text/plain": "   Confirmed\n0         24\n1         24\n2         27\n3         27\n4         28",
      "text/html": "<div>\n<style scoped>\n    .dataframe tbody tr th:only-of-type {\n        vertical-align: middle;\n    }\n\n    .dataframe tbody tr th {\n        vertical-align: top;\n    }\n\n    .dataframe thead th {\n        text-align: right;\n    }\n</style>\n<table border=\"1\" class=\"dataframe\">\n  <thead>\n    <tr style=\"text-align: right;\">\n      <th></th>\n      <th>Confirmed</th>\n    </tr>\n  </thead>\n  <tbody>\n    <tr>\n      <th>0</th>\n      <td>24</td>\n    </tr>\n    <tr>\n      <th>1</th>\n      <td>24</td>\n    </tr>\n    <tr>\n      <th>2</th>\n      <td>27</td>\n    </tr>\n    <tr>\n      <th>3</th>\n      <td>27</td>\n    </tr>\n    <tr>\n      <th>4</th>\n      <td>28</td>\n    </tr>\n  </tbody>\n</table>\n</div>"
     },
     "execution_count": 4,
     "metadata": {},
     "output_type": "execute_result"
    }
   ],
   "source": [
    "df.head()"
   ],
   "metadata": {
    "collapsed": false,
    "ExecuteTime": {
     "end_time": "2024-01-11T07:53:20.508185200Z",
     "start_time": "2024-01-11T07:53:20.465053100Z"
    }
   }
  },
  {
   "cell_type": "code",
   "execution_count": 5,
   "outputs": [
    {
     "data": {
      "text/plain": "array([[   24.],\n       [   24.],\n       [   27.],\n       [   27.],\n       [   28.],\n       [   28.],\n       [   28.],\n       [   28.],\n       [   28.],\n       [   29.],\n       [   30.],\n       [   31.],\n       [   51.],\n       [  104.],\n       [  204.],\n       [  433.],\n       [  602.],\n       [  833.],\n       [  977.],\n       [ 1261.],\n       [ 1766.],\n       [ 2337.],\n       [ 3150.],\n       [ 3736.],\n       [ 4212.],\n       [ 4812.],\n       [ 5328.],\n       [ 5766.],\n       [ 6284.],\n       [ 6767.],\n       [ 7134.],\n       [ 7382.],\n       [ 7513.],\n       [ 7755.],\n       [ 7869.],\n       [ 7979.],\n       [ 8086.],\n       [ 8162.],\n       [ 8236.],\n       [ 8320.],\n       [ 8413.],\n       [ 8565.],\n       [ 8652.],\n       [ 8799.],\n       [ 8897.],\n       [ 8961.],\n       [ 9037.],\n       [ 9137.],\n       [ 9241.],\n       [ 9332.],\n       [ 9478.],\n       [ 9583.],\n       [ 9661.],\n       [ 9786.],\n       [ 9887.],\n       [ 9976.],\n       [10062.],\n       [10156.],\n       [10237.],\n       [10284.],\n       [10331.],\n       [10384.],\n       [10423.],\n       [10450.],\n       [10480.],\n       [10512.],\n       [10537.],\n       [10564.],\n       [10591.],\n       [10613.],\n       [10635.],\n       [10653.],\n       [10661.],\n       [10674.],\n       [10683.],\n       [10694.],\n       [10702.],\n       [10708.],\n       [10718.],\n       [10728.],\n       [10738.],\n       [10752.],\n       [10761.],\n       [10765.],\n       [10774.],\n       [10780.],\n       [10793.],\n       [10801.],\n       [10804.],\n       [10806.],\n       [10810.],\n       [10822.],\n       [10840.],\n       [10874.],\n       [10909.],\n       [10936.],\n       [10962.],\n       [10991.],\n       [11018.],\n       [11037.],\n       [11050.],\n       [11065.],\n       [11078.],\n       [11110.],\n       [11122.],\n       [11142.],\n       [11165.],\n       [11190.],\n       [11206.],\n       [11225.],\n       [11265.],\n       [11344.]], dtype=float32)"
     },
     "execution_count": 5,
     "metadata": {},
     "output_type": "execute_result"
    }
   ],
   "source": [
    "data_set = df.values.astype('float32')\n",
    "data_set"
   ],
   "metadata": {
    "collapsed": false,
    "ExecuteTime": {
     "end_time": "2024-01-11T07:53:20.510425Z",
     "start_time": "2024-01-11T07:53:20.480126200Z"
    }
   }
  },
  {
   "cell_type": "code",
   "execution_count": 6,
   "outputs": [
    {
     "data": {
      "text/plain": "array([[0.0000000e+00],\n       [0.0000000e+00],\n       [2.6501762e-04],\n       [2.6501762e-04],\n       [3.5335682e-04],\n       [3.5335682e-04],\n       [3.5335682e-04],\n       [3.5335682e-04],\n       [3.5335682e-04],\n       [4.4169603e-04],\n       [5.3003523e-04],\n       [6.1837444e-04],\n       [2.3851590e-03],\n       [7.0671379e-03],\n       [1.5901061e-02],\n       [3.6130741e-02],\n       [5.1060069e-02],\n       [7.1466424e-02],\n       [8.4187277e-02],\n       [1.0927561e-01],\n       [1.5388693e-01],\n       [2.0432863e-01],\n       [2.7614841e-01],\n       [3.2791519e-01],\n       [3.6996466e-01],\n       [4.2296818e-01],\n       [4.6855122e-01],\n       [5.0724381e-01],\n       [5.5300355e-01],\n       [5.9567136e-01],\n       [6.2809187e-01],\n       [6.4999998e-01],\n       [6.6157240e-01],\n       [6.8295050e-01],\n       [6.9302118e-01],\n       [7.0273852e-01],\n       [7.1219081e-01],\n       [7.1890455e-01],\n       [7.2544169e-01],\n       [7.3286217e-01],\n       [7.4107772e-01],\n       [7.5450528e-01],\n       [7.6219082e-01],\n       [7.7517664e-01],\n       [7.8383392e-01],\n       [7.8948760e-01],\n       [7.9620141e-01],\n       [8.0503529e-01],\n       [8.1422257e-01],\n       [8.2226145e-01],\n       [8.3515900e-01],\n       [8.4443462e-01],\n       [8.5132509e-01],\n       [8.6236745e-01],\n       [8.7128973e-01],\n       [8.7915194e-01],\n       [8.8674909e-01],\n       [8.9505297e-01],\n       [9.0220845e-01],\n       [9.0636039e-01],\n       [9.1051233e-01],\n       [9.1519433e-01],\n       [9.1863954e-01],\n       [9.2102474e-01],\n       [9.2367488e-01],\n       [9.2650175e-01],\n       [9.2871022e-01],\n       [9.3109536e-01],\n       [9.3348056e-01],\n       [9.3542403e-01],\n       [9.3736750e-01],\n       [9.3895757e-01],\n       [9.3966430e-01],\n       [9.4081271e-01],\n       [9.4160777e-01],\n       [9.4257951e-01],\n       [9.4328618e-01],\n       [9.4381624e-01],\n       [9.4469965e-01],\n       [9.4558305e-01],\n       [9.4646639e-01],\n       [9.4770318e-01],\n       [9.4849819e-01],\n       [9.4885159e-01],\n       [9.4964665e-01],\n       [9.5017666e-01],\n       [9.5132506e-01],\n       [9.5203179e-01],\n       [9.5229679e-01],\n       [9.5247346e-01],\n       [9.5282686e-01],\n       [9.5388693e-01],\n       [9.5547700e-01],\n       [9.5848054e-01],\n       [9.6157241e-01],\n       [9.6395755e-01],\n       [9.6625441e-01],\n       [9.6881622e-01],\n       [9.7120142e-01],\n       [9.7287983e-01],\n       [9.7402823e-01],\n       [9.7535336e-01],\n       [9.7650176e-01],\n       [9.7932857e-01],\n       [9.8038870e-01],\n       [9.8215544e-01],\n       [9.8418725e-01],\n       [9.8639572e-01],\n       [9.8780918e-01],\n       [9.8948759e-01],\n       [9.9302119e-01],\n       [1.0000000e+00]], dtype=float32)"
     },
     "execution_count": 6,
     "metadata": {},
     "output_type": "execute_result"
    }
   ],
   "source": [
    "scaler = MinMaxScaler(feature_range=(0, 1))\n",
    "Data_set = scaler.fit_transform(data_set)\n",
    "Data_set"
   ],
   "metadata": {
    "collapsed": false,
    "ExecuteTime": {
     "end_time": "2024-01-11T07:53:20.511501200Z",
     "start_time": "2024-01-11T07:53:20.496458400Z"
    }
   }
  },
  {
   "cell_type": "code",
   "execution_count": 7,
   "outputs": [
    {
     "data": {
      "text/plain": "(89, 23)"
     },
     "execution_count": 7,
     "metadata": {},
     "output_type": "execute_result"
    }
   ],
   "source": [
    "train_data, test_data = train_test_split(Data_set, test_size=0.2, shuffle=False)\n",
    "len(train_data), len(test_data)"
   ],
   "metadata": {
    "collapsed": false,
    "ExecuteTime": {
     "end_time": "2024-01-11T07:53:20.525486800Z",
     "start_time": "2024-01-11T07:53:20.510425Z"
    }
   }
  },
  {
   "cell_type": "code",
   "execution_count": 8,
   "outputs": [
    {
     "data": {
      "text/plain": "'Hello World'"
     },
     "execution_count": 8,
     "metadata": {},
     "output_type": "execute_result"
    }
   ],
   "source": [
    "\"Hello World\""
   ],
   "metadata": {
    "collapsed": false,
    "ExecuteTime": {
     "end_time": "2024-01-11T07:53:20.630059600Z",
     "start_time": "2024-01-11T07:53:20.526490400Z"
    }
   }
  },
  {
   "cell_type": "code",
   "execution_count": 9,
   "outputs": [],
   "source": [
    "def create_data_set(data_set, look_back):\n",
    "    x_data = []\n",
    "    y_data = []\n",
    "    for i in range(len(data_set) - look_back):\n",
    "        data = data_set[i:(i + look_back), 0]\n",
    "        x_data.append(data)\n",
    "        y_data.append(data_set[i + look_back, 0])\n",
    "    return np.array(x_data), np.array(y_data)"
   ],
   "metadata": {
    "collapsed": false,
    "ExecuteTime": {
     "end_time": "2024-01-11T07:53:20.630059600Z",
     "start_time": "2024-01-11T07:53:20.541593500Z"
    }
   }
  },
  {
   "cell_type": "code",
   "execution_count": 10,
   "outputs": [
    {
     "data": {
      "text/plain": "((86, 3), (86,), (20, 3), (20,))"
     },
     "execution_count": 10,
     "metadata": {},
     "output_type": "execute_result"
    }
   ],
   "source": [
    "look_back = 3\n",
    "x_train, y_train = create_data_set(train_data, look_back)\n",
    "x_test, y_test = create_data_set(test_data, look_back)\n",
    "x_train.shape, y_train.shape, x_test.shape, y_test.shape"
   ],
   "metadata": {
    "collapsed": false,
    "ExecuteTime": {
     "end_time": "2024-01-11T07:53:20.631061Z",
     "start_time": "2024-01-11T07:53:20.556285900Z"
    }
   }
  },
  {
   "cell_type": "code",
   "execution_count": 15,
   "outputs": [
    {
     "data": {
      "text/plain": "((86, 1, 3), (20, 1, 3))"
     },
     "execution_count": 15,
     "metadata": {},
     "output_type": "execute_result"
    }
   ],
   "source": [
    "X_train = np.reshape(x_train, (x_train.shape[0], 1, x_train.shape[1]))\n",
    "X_test = np.reshape(x_test, (x_test.shape[0], 1, x_test.shape[1]))\n",
    "X_train.shape, X_test.shape"
   ],
   "metadata": {
    "collapsed": false,
    "ExecuteTime": {
     "end_time": "2024-01-11T07:56:37.591769100Z",
     "start_time": "2024-01-11T07:56:37.584511900Z"
    }
   }
  },
  {
   "cell_type": "code",
   "execution_count": 17,
   "outputs": [
    {
     "name": "stdout",
     "output_type": "stream",
     "text": [
      "Model: \"coronada\"\n",
      "_________________________________________________________________\n",
      " Layer (type)                Output Shape              Param #   \n",
      "=================================================================\n",
      " simple_rnn_2 (SimpleRNN)    (None, 3)                 21        \n",
      "                                                                 \n",
      " dense_2 (Dense)             (None, 1)                 4         \n",
      "                                                                 \n",
      "=================================================================\n",
      "Total params: 25 (100.00 Byte)\n",
      "Trainable params: 25 (100.00 Byte)\n",
      "Non-trainable params: 0 (0.00 Byte)\n",
      "_________________________________________________________________\n"
     ]
    }
   ],
   "source": [
    "model = Sequential(name='coronada')\n",
    "model.add(SimpleRNN(3, input_shape=(1, look_back)))\n",
    "model.add(Dense(1, activation='linear'))\n",
    "model.compile(loss='mse', optimizer='adam')\n",
    "model.summary()"
   ],
   "metadata": {
    "collapsed": false,
    "ExecuteTime": {
     "end_time": "2024-01-11T07:57:02.352018900Z",
     "start_time": "2024-01-11T07:57:02.286626800Z"
    }
   }
  },
  {
   "cell_type": "code",
   "execution_count": 18,
   "outputs": [
    {
     "name": "stdout",
     "output_type": "stream",
     "text": [
      "Epoch 1/100\n",
      "86/86 [==============================] - 1s 808us/step - loss: 0.2195\n",
      "Epoch 2/100\n",
      "86/86 [==============================] - 0s 884us/step - loss: 0.0446\n",
      "Epoch 3/100\n",
      "86/86 [==============================] - 0s 1ms/step - loss: 0.0188\n",
      "Epoch 4/100\n",
      "86/86 [==============================] - 0s 913us/step - loss: 0.0126\n",
      "Epoch 5/100\n",
      "86/86 [==============================] - 0s 1ms/step - loss: 0.0086\n",
      "Epoch 6/100\n",
      "86/86 [==============================] - 0s 962us/step - loss: 0.0057\n",
      "Epoch 7/100\n",
      "86/86 [==============================] - 0s 996us/step - loss: 0.0039\n",
      "Epoch 8/100\n",
      "86/86 [==============================] - 0s 1ms/step - loss: 0.0027\n",
      "Epoch 9/100\n",
      "86/86 [==============================] - 0s 1ms/step - loss: 0.0021\n",
      "Epoch 10/100\n",
      "86/86 [==============================] - 0s 1ms/step - loss: 0.0017\n",
      "Epoch 11/100\n",
      "86/86 [==============================] - 0s 1ms/step - loss: 0.0014\n",
      "Epoch 12/100\n",
      "86/86 [==============================] - 0s 1ms/step - loss: 0.0013\n",
      "Epoch 13/100\n",
      "86/86 [==============================] - 0s 1ms/step - loss: 0.0012\n",
      "Epoch 14/100\n",
      "86/86 [==============================] - 0s 972us/step - loss: 0.0011\n",
      "Epoch 15/100\n",
      "86/86 [==============================] - 0s 970us/step - loss: 9.7406e-04\n",
      "Epoch 16/100\n",
      "86/86 [==============================] - 0s 1ms/step - loss: 9.0655e-04\n",
      "Epoch 17/100\n",
      "86/86 [==============================] - 0s 966us/step - loss: 8.1624e-04\n",
      "Epoch 18/100\n",
      "86/86 [==============================] - 0s 1ms/step - loss: 7.6255e-04\n",
      "Epoch 19/100\n",
      "86/86 [==============================] - 0s 963us/step - loss: 7.2280e-04\n",
      "Epoch 20/100\n",
      "86/86 [==============================] - 0s 1ms/step - loss: 6.7216e-04\n",
      "Epoch 21/100\n",
      "86/86 [==============================] - 0s 976us/step - loss: 5.9063e-04\n",
      "Epoch 22/100\n",
      "86/86 [==============================] - 0s 956us/step - loss: 5.6381e-04\n",
      "Epoch 23/100\n",
      "86/86 [==============================] - 0s 972us/step - loss: 5.2168e-04\n",
      "Epoch 24/100\n",
      "86/86 [==============================] - 0s 982us/step - loss: 4.7017e-04\n",
      "Epoch 25/100\n",
      "86/86 [==============================] - 0s 987us/step - loss: 4.4064e-04\n",
      "Epoch 26/100\n",
      "86/86 [==============================] - 0s 979us/step - loss: 4.2780e-04\n",
      "Epoch 27/100\n",
      "86/86 [==============================] - 0s 941us/step - loss: 4.0093e-04\n",
      "Epoch 28/100\n",
      "86/86 [==============================] - 0s 1ms/step - loss: 3.8439e-04\n",
      "Epoch 29/100\n",
      "86/86 [==============================] - 0s 1ms/step - loss: 3.4719e-04\n",
      "Epoch 30/100\n",
      "86/86 [==============================] - 0s 971us/step - loss: 3.3780e-04\n",
      "Epoch 31/100\n",
      "86/86 [==============================] - 0s 988us/step - loss: 3.2407e-04\n",
      "Epoch 32/100\n",
      "86/86 [==============================] - 0s 987us/step - loss: 3.0111e-04\n",
      "Epoch 33/100\n",
      "86/86 [==============================] - 0s 945us/step - loss: 2.8773e-04\n",
      "Epoch 34/100\n",
      "86/86 [==============================] - 0s 968us/step - loss: 2.9392e-04\n",
      "Epoch 35/100\n",
      "86/86 [==============================] - 0s 1ms/step - loss: 2.7809e-04\n",
      "Epoch 36/100\n",
      "86/86 [==============================] - 0s 1ms/step - loss: 2.3098e-04\n",
      "Epoch 37/100\n",
      "86/86 [==============================] - 0s 978us/step - loss: 2.3145e-04\n",
      "Epoch 38/100\n",
      "86/86 [==============================] - 0s 1ms/step - loss: 2.3296e-04\n",
      "Epoch 39/100\n",
      "86/86 [==============================] - 0s 967us/step - loss: 2.1936e-04\n",
      "Epoch 40/100\n",
      "86/86 [==============================] - 0s 1ms/step - loss: 2.1295e-04\n",
      "Epoch 41/100\n",
      "86/86 [==============================] - 0s 1ms/step - loss: 2.1324e-04\n",
      "Epoch 42/100\n",
      "86/86 [==============================] - 0s 961us/step - loss: 2.1730e-04\n",
      "Epoch 43/100\n",
      "86/86 [==============================] - 0s 1ms/step - loss: 2.1406e-04\n",
      "Epoch 44/100\n",
      "86/86 [==============================] - 0s 986us/step - loss: 1.8753e-04\n",
      "Epoch 45/100\n",
      "86/86 [==============================] - 0s 944us/step - loss: 1.8678e-04\n",
      "Epoch 46/100\n",
      "86/86 [==============================] - 0s 973us/step - loss: 1.7681e-04\n",
      "Epoch 47/100\n",
      "86/86 [==============================] - 0s 955us/step - loss: 1.7814e-04\n",
      "Epoch 48/100\n",
      "86/86 [==============================] - 0s 968us/step - loss: 1.7832e-04\n",
      "Epoch 49/100\n",
      "86/86 [==============================] - 0s 1ms/step - loss: 1.7642e-04\n",
      "Epoch 50/100\n",
      "86/86 [==============================] - 0s 1ms/step - loss: 1.6515e-04\n",
      "Epoch 51/100\n",
      "86/86 [==============================] - 0s 1ms/step - loss: 1.7885e-04\n",
      "Epoch 52/100\n",
      "86/86 [==============================] - 0s 983us/step - loss: 1.6388e-04\n",
      "Epoch 53/100\n",
      "86/86 [==============================] - 0s 920us/step - loss: 1.8408e-04\n",
      "Epoch 54/100\n",
      "86/86 [==============================] - 0s 996us/step - loss: 1.5373e-04\n",
      "Epoch 55/100\n",
      "86/86 [==============================] - 0s 949us/step - loss: 1.4628e-04\n",
      "Epoch 56/100\n",
      "86/86 [==============================] - 0s 955us/step - loss: 1.5516e-04\n",
      "Epoch 57/100\n",
      "86/86 [==============================] - 0s 964us/step - loss: 1.4609e-04\n",
      "Epoch 58/100\n",
      "86/86 [==============================] - 0s 1ms/step - loss: 1.4531e-04\n",
      "Epoch 59/100\n",
      "86/86 [==============================] - 0s 1ms/step - loss: 1.3901e-04\n",
      "Epoch 60/100\n",
      "86/86 [==============================] - 0s 962us/step - loss: 1.4065e-04\n",
      "Epoch 61/100\n",
      "86/86 [==============================] - 0s 1ms/step - loss: 1.2970e-04\n",
      "Epoch 62/100\n",
      "86/86 [==============================] - 0s 993us/step - loss: 1.4065e-04\n",
      "Epoch 63/100\n",
      "86/86 [==============================] - 0s 989us/step - loss: 1.3575e-04\n",
      "Epoch 64/100\n",
      "86/86 [==============================] - 0s 1ms/step - loss: 1.3387e-04\n",
      "Epoch 65/100\n",
      "86/86 [==============================] - 0s 990us/step - loss: 1.2481e-04\n",
      "Epoch 66/100\n",
      "86/86 [==============================] - 0s 967us/step - loss: 1.3533e-04\n",
      "Epoch 67/100\n",
      "86/86 [==============================] - 0s 959us/step - loss: 1.2908e-04\n",
      "Epoch 68/100\n",
      "86/86 [==============================] - 0s 988us/step - loss: 1.4774e-04\n",
      "Epoch 69/100\n",
      "86/86 [==============================] - 0s 979us/step - loss: 1.3414e-04\n",
      "Epoch 70/100\n",
      "86/86 [==============================] - 0s 957us/step - loss: 1.2333e-04\n",
      "Epoch 71/100\n",
      "86/86 [==============================] - 0s 945us/step - loss: 1.2160e-04\n",
      "Epoch 72/100\n",
      "86/86 [==============================] - 0s 1ms/step - loss: 1.1770e-04\n",
      "Epoch 73/100\n",
      "86/86 [==============================] - 0s 966us/step - loss: 1.2055e-04\n",
      "Epoch 74/100\n",
      "86/86 [==============================] - 0s 916us/step - loss: 1.1640e-04\n",
      "Epoch 75/100\n",
      "86/86 [==============================] - 0s 1ms/step - loss: 1.1156e-04\n",
      "Epoch 76/100\n",
      "86/86 [==============================] - 0s 965us/step - loss: 1.0857e-04\n",
      "Epoch 77/100\n",
      "86/86 [==============================] - 0s 976us/step - loss: 1.1799e-04\n",
      "Epoch 78/100\n",
      "86/86 [==============================] - 0s 949us/step - loss: 1.2946e-04\n",
      "Epoch 79/100\n",
      "86/86 [==============================] - 0s 969us/step - loss: 1.0129e-04\n",
      "Epoch 80/100\n",
      "86/86 [==============================] - 0s 1ms/step - loss: 1.3076e-04\n",
      "Epoch 81/100\n",
      "86/86 [==============================] - 0s 944us/step - loss: 1.0689e-04\n",
      "Epoch 82/100\n",
      "86/86 [==============================] - 0s 1ms/step - loss: 1.0963e-04\n",
      "Epoch 83/100\n",
      "86/86 [==============================] - 0s 1ms/step - loss: 1.3591e-04\n",
      "Epoch 84/100\n",
      "86/86 [==============================] - 0s 976us/step - loss: 1.1196e-04\n",
      "Epoch 85/100\n",
      "86/86 [==============================] - 0s 927us/step - loss: 1.0673e-04\n",
      "Epoch 86/100\n",
      "86/86 [==============================] - 0s 1ms/step - loss: 1.0908e-04\n",
      "Epoch 87/100\n",
      "86/86 [==============================] - 0s 976us/step - loss: 9.0317e-05\n",
      "Epoch 88/100\n",
      "86/86 [==============================] - 0s 971us/step - loss: 1.0916e-04\n",
      "Epoch 89/100\n",
      "86/86 [==============================] - 0s 958us/step - loss: 1.0088e-04\n",
      "Epoch 90/100\n",
      "86/86 [==============================] - 0s 1ms/step - loss: 1.1003e-04\n",
      "Epoch 91/100\n",
      "86/86 [==============================] - 0s 975us/step - loss: 9.7079e-05\n",
      "Epoch 92/100\n",
      "86/86 [==============================] - 0s 1ms/step - loss: 8.9892e-05\n",
      "Epoch 93/100\n",
      "86/86 [==============================] - 0s 1ms/step - loss: 1.0160e-04\n",
      "Epoch 94/100\n",
      "86/86 [==============================] - 0s 1ms/step - loss: 8.5416e-05\n",
      "Epoch 95/100\n",
      "86/86 [==============================] - 0s 991us/step - loss: 1.0061e-04\n",
      "Epoch 96/100\n",
      "86/86 [==============================] - 0s 973us/step - loss: 8.5249e-05\n",
      "Epoch 97/100\n",
      "86/86 [==============================] - 0s 997us/step - loss: 8.4272e-05\n",
      "Epoch 98/100\n",
      "86/86 [==============================] - 0s 959us/step - loss: 9.2799e-05\n",
      "Epoch 99/100\n",
      "86/86 [==============================] - 0s 931us/step - loss: 9.0634e-05\n",
      "Epoch 100/100\n",
      "86/86 [==============================] - 0s 1ms/step - loss: 1.0295e-04\n"
     ]
    },
    {
     "data": {
      "text/plain": "<keras.src.callbacks.History at 0x206fe35b790>"
     },
     "execution_count": 18,
     "metadata": {},
     "output_type": "execute_result"
    }
   ],
   "source": [
    "model.fit(X_train, y_train, epochs=100, batch_size=1, verbose=1)"
   ],
   "metadata": {
    "collapsed": false,
    "ExecuteTime": {
     "end_time": "2024-01-11T07:57:13.356659300Z",
     "start_time": "2024-01-11T07:57:03.984819800Z"
    }
   }
  }
 ],
 "metadata": {
  "kernelspec": {
   "display_name": "Python 3",
   "language": "python",
   "name": "python3"
  },
  "language_info": {
   "codemirror_mode": {
    "name": "ipython",
    "version": 2
   },
   "file_extension": ".py",
   "mimetype": "text/x-python",
   "name": "python",
   "nbconvert_exporter": "python",
   "pygments_lexer": "ipython2",
   "version": "2.7.6"
  }
 },
 "nbformat": 4,
 "nbformat_minor": 0
}
