{
 "cells": [
  {
   "cell_type": "code",
   "execution_count": 1,
   "metadata": {
    "collapsed": true,
    "ExecuteTime": {
     "end_time": "2024-01-11T07:28:51.497685800Z",
     "start_time": "2024-01-11T07:28:46.980779500Z"
    }
   },
   "outputs": [],
   "source": [
    "from keras.models import Sequential\n",
    "from keras.layers import SimpleRNN, Dense\n",
    "\n",
    "from sklearn.preprocessing import MinMaxScaler\n",
    "from sklearn.metrics import mean_squared_error\n",
    "from sklearn.model_selection import train_test_split\n",
    "\n",
    "import math\n",
    "import numpy as np\n",
    "import matplotlib.pyplot as plt\n",
    "from pandas import read_csv"
   ]
  },
  {
   "cell_type": "code",
   "execution_count": 4,
   "outputs": [
    {
     "name": "stdout",
     "output_type": "stream",
     "text": [
      "<class 'pandas.core.frame.DataFrame'>\n",
      "RangeIndex: 112 entries, 0 to 111\n",
      "Data columns (total 1 columns):\n",
      " #   Column     Non-Null Count  Dtype\n",
      "---  ------     --------------  -----\n",
      " 0   Confirmed  112 non-null    int64\n",
      "dtypes: int64(1)\n",
      "memory usage: 1.0 KB\n"
     ]
    }
   ],
   "source": [
    "df = read_csv('corona_daily.csv', usecols=[3], engine='python', skipfooter=3)\n",
    "df.info()"
   ],
   "metadata": {
    "collapsed": false,
    "ExecuteTime": {
     "end_time": "2024-01-11T07:29:13.581461300Z",
     "start_time": "2024-01-11T07:29:13.551889400Z"
    }
   }
  },
  {
   "cell_type": "code",
   "execution_count": 5,
   "outputs": [
    {
     "data": {
      "text/plain": "   Confirmed\n0         24\n1         24\n2         27\n3         27\n4         28",
      "text/html": "<div>\n<style scoped>\n    .dataframe tbody tr th:only-of-type {\n        vertical-align: middle;\n    }\n\n    .dataframe tbody tr th {\n        vertical-align: top;\n    }\n\n    .dataframe thead th {\n        text-align: right;\n    }\n</style>\n<table border=\"1\" class=\"dataframe\">\n  <thead>\n    <tr style=\"text-align: right;\">\n      <th></th>\n      <th>Confirmed</th>\n    </tr>\n  </thead>\n  <tbody>\n    <tr>\n      <th>0</th>\n      <td>24</td>\n    </tr>\n    <tr>\n      <th>1</th>\n      <td>24</td>\n    </tr>\n    <tr>\n      <th>2</th>\n      <td>27</td>\n    </tr>\n    <tr>\n      <th>3</th>\n      <td>27</td>\n    </tr>\n    <tr>\n      <th>4</th>\n      <td>28</td>\n    </tr>\n  </tbody>\n</table>\n</div>"
     },
     "execution_count": 5,
     "metadata": {},
     "output_type": "execute_result"
    }
   ],
   "source": [
    "df.head()"
   ],
   "metadata": {
    "collapsed": false,
    "ExecuteTime": {
     "end_time": "2024-01-11T07:29:20.925318700Z",
     "start_time": "2024-01-11T07:29:20.912203700Z"
    }
   }
  },
  {
   "cell_type": "code",
   "execution_count": 9,
   "outputs": [
    {
     "data": {
      "text/plain": "array([[   24.],\n       [   24.],\n       [   27.],\n       [   27.],\n       [   28.],\n       [   28.],\n       [   28.],\n       [   28.],\n       [   28.],\n       [   29.],\n       [   30.],\n       [   31.],\n       [   51.],\n       [  104.],\n       [  204.],\n       [  433.],\n       [  602.],\n       [  833.],\n       [  977.],\n       [ 1261.],\n       [ 1766.],\n       [ 2337.],\n       [ 3150.],\n       [ 3736.],\n       [ 4212.],\n       [ 4812.],\n       [ 5328.],\n       [ 5766.],\n       [ 6284.],\n       [ 6767.],\n       [ 7134.],\n       [ 7382.],\n       [ 7513.],\n       [ 7755.],\n       [ 7869.],\n       [ 7979.],\n       [ 8086.],\n       [ 8162.],\n       [ 8236.],\n       [ 8320.],\n       [ 8413.],\n       [ 8565.],\n       [ 8652.],\n       [ 8799.],\n       [ 8897.],\n       [ 8961.],\n       [ 9037.],\n       [ 9137.],\n       [ 9241.],\n       [ 9332.],\n       [ 9478.],\n       [ 9583.],\n       [ 9661.],\n       [ 9786.],\n       [ 9887.],\n       [ 9976.],\n       [10062.],\n       [10156.],\n       [10237.],\n       [10284.],\n       [10331.],\n       [10384.],\n       [10423.],\n       [10450.],\n       [10480.],\n       [10512.],\n       [10537.],\n       [10564.],\n       [10591.],\n       [10613.],\n       [10635.],\n       [10653.],\n       [10661.],\n       [10674.],\n       [10683.],\n       [10694.],\n       [10702.],\n       [10708.],\n       [10718.],\n       [10728.],\n       [10738.],\n       [10752.],\n       [10761.],\n       [10765.],\n       [10774.],\n       [10780.],\n       [10793.],\n       [10801.],\n       [10804.],\n       [10806.],\n       [10810.],\n       [10822.],\n       [10840.],\n       [10874.],\n       [10909.],\n       [10936.],\n       [10962.],\n       [10991.],\n       [11018.],\n       [11037.],\n       [11050.],\n       [11065.],\n       [11078.],\n       [11110.],\n       [11122.],\n       [11142.],\n       [11165.],\n       [11190.],\n       [11206.],\n       [11225.],\n       [11265.],\n       [11344.]], dtype=float32)"
     },
     "execution_count": 9,
     "metadata": {},
     "output_type": "execute_result"
    }
   ],
   "source": [
    "data_set = df.values.astype('float32')\n",
    "data_set"
   ],
   "metadata": {
    "collapsed": false,
    "ExecuteTime": {
     "end_time": "2024-01-11T07:31:13.761542100Z",
     "start_time": "2024-01-11T07:31:13.754651300Z"
    }
   }
  },
  {
   "cell_type": "code",
   "execution_count": 10,
   "outputs": [
    {
     "data": {
      "text/plain": "array([[0.0000000e+00],\n       [0.0000000e+00],\n       [2.6501762e-04],\n       [2.6501762e-04],\n       [3.5335682e-04],\n       [3.5335682e-04],\n       [3.5335682e-04],\n       [3.5335682e-04],\n       [3.5335682e-04],\n       [4.4169603e-04],\n       [5.3003523e-04],\n       [6.1837444e-04],\n       [2.3851590e-03],\n       [7.0671379e-03],\n       [1.5901061e-02],\n       [3.6130741e-02],\n       [5.1060069e-02],\n       [7.1466424e-02],\n       [8.4187277e-02],\n       [1.0927561e-01],\n       [1.5388693e-01],\n       [2.0432863e-01],\n       [2.7614841e-01],\n       [3.2791519e-01],\n       [3.6996466e-01],\n       [4.2296818e-01],\n       [4.6855122e-01],\n       [5.0724381e-01],\n       [5.5300355e-01],\n       [5.9567136e-01],\n       [6.2809187e-01],\n       [6.4999998e-01],\n       [6.6157240e-01],\n       [6.8295050e-01],\n       [6.9302118e-01],\n       [7.0273852e-01],\n       [7.1219081e-01],\n       [7.1890455e-01],\n       [7.2544169e-01],\n       [7.3286217e-01],\n       [7.4107772e-01],\n       [7.5450528e-01],\n       [7.6219082e-01],\n       [7.7517664e-01],\n       [7.8383392e-01],\n       [7.8948760e-01],\n       [7.9620141e-01],\n       [8.0503529e-01],\n       [8.1422257e-01],\n       [8.2226145e-01],\n       [8.3515900e-01],\n       [8.4443462e-01],\n       [8.5132509e-01],\n       [8.6236745e-01],\n       [8.7128973e-01],\n       [8.7915194e-01],\n       [8.8674909e-01],\n       [8.9505297e-01],\n       [9.0220845e-01],\n       [9.0636039e-01],\n       [9.1051233e-01],\n       [9.1519433e-01],\n       [9.1863954e-01],\n       [9.2102474e-01],\n       [9.2367488e-01],\n       [9.2650175e-01],\n       [9.2871022e-01],\n       [9.3109536e-01],\n       [9.3348056e-01],\n       [9.3542403e-01],\n       [9.3736750e-01],\n       [9.3895757e-01],\n       [9.3966430e-01],\n       [9.4081271e-01],\n       [9.4160777e-01],\n       [9.4257951e-01],\n       [9.4328618e-01],\n       [9.4381624e-01],\n       [9.4469965e-01],\n       [9.4558305e-01],\n       [9.4646639e-01],\n       [9.4770318e-01],\n       [9.4849819e-01],\n       [9.4885159e-01],\n       [9.4964665e-01],\n       [9.5017666e-01],\n       [9.5132506e-01],\n       [9.5203179e-01],\n       [9.5229679e-01],\n       [9.5247346e-01],\n       [9.5282686e-01],\n       [9.5388693e-01],\n       [9.5547700e-01],\n       [9.5848054e-01],\n       [9.6157241e-01],\n       [9.6395755e-01],\n       [9.6625441e-01],\n       [9.6881622e-01],\n       [9.7120142e-01],\n       [9.7287983e-01],\n       [9.7402823e-01],\n       [9.7535336e-01],\n       [9.7650176e-01],\n       [9.7932857e-01],\n       [9.8038870e-01],\n       [9.8215544e-01],\n       [9.8418725e-01],\n       [9.8639572e-01],\n       [9.8780918e-01],\n       [9.8948759e-01],\n       [9.9302119e-01],\n       [1.0000000e+00]], dtype=float32)"
     },
     "execution_count": 10,
     "metadata": {},
     "output_type": "execute_result"
    }
   ],
   "source": [
    "scaler = MinMaxScaler(feature_range=(0, 1))\n",
    "Data_set = scaler.fit_transform(data_set)\n",
    "Data_set"
   ],
   "metadata": {
    "collapsed": false,
    "ExecuteTime": {
     "end_time": "2024-01-11T07:31:31.419117700Z",
     "start_time": "2024-01-11T07:31:31.405495Z"
    }
   }
  },
  {
   "cell_type": "code",
   "execution_count": 36,
   "outputs": [
    {
     "data": {
      "text/plain": "(89, 23)"
     },
     "execution_count": 36,
     "metadata": {},
     "output_type": "execute_result"
    }
   ],
   "source": [
    "train_data, test_data = train_test_split(Data_set, test_size=0.2, shuffle=False)\n",
    "len(train_data), len(test_data)"
   ],
   "metadata": {
    "collapsed": false,
    "ExecuteTime": {
     "end_time": "2024-01-11T07:32:12.491929400Z",
     "start_time": "2024-01-11T07:32:12.478269100Z"
    }
   }
  },
  {
   "cell_type": "code",
   "execution_count": 48,
   "outputs": [
    {
     "data": {
      "text/plain": "'Hello World'"
     },
     "execution_count": 48,
     "metadata": {},
     "output_type": "execute_result"
    }
   ],
   "source": [
    "\"Hello World\""
   ],
   "metadata": {
    "collapsed": false,
    "ExecuteTime": {
     "end_time": "2024-01-11T07:32:46.933203600Z",
     "start_time": "2024-01-11T07:32:46.923907900Z"
    }
   }
  },
  {
   "cell_type": "code",
   "execution_count": null,
   "outputs": [],
   "source": [],
   "metadata": {
    "collapsed": false
   }
  }
 ],
 "metadata": {
  "kernelspec": {
   "display_name": "Python 3",
   "language": "python",
   "name": "python3"
  },
  "language_info": {
   "codemirror_mode": {
    "name": "ipython",
    "version": 2
   },
   "file_extension": ".py",
   "mimetype": "text/x-python",
   "name": "python",
   "nbconvert_exporter": "python",
   "pygments_lexer": "ipython2",
   "version": "2.7.6"
  }
 },
 "nbformat": 4,
 "nbformat_minor": 0
}
